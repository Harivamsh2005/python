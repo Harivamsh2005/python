{
  "nbformat": 4,
  "nbformat_minor": 0,
  "metadata": {
    "colab": {
      "provenance": [],
      "authorship_tag": "ABX9TyP2G2/XgacRJ6zcSg3pCSsH",
      "include_colab_link": true
    },
    "kernelspec": {
      "name": "python3",
      "display_name": "Python 3"
    },
    "language_info": {
      "name": "python"
    }
  },
  "cells": [
    {
      "cell_type": "markdown",
      "metadata": {
        "id": "view-in-github",
        "colab_type": "text"
      },
      "source": [
        "<a href=\"https://colab.research.google.com/github/Harivamsh2005/python/blob/main/25_09_2025_list%2Ctupes%2Cbytes.ipynb\" target=\"_parent\"><img src=\"https://colab.research.google.com/assets/colab-badge.svg\" alt=\"Open In Colab\"/></a>"
      ]
    },
    {
      "cell_type": "code",
      "execution_count": 3,
      "metadata": {
        "colab": {
          "base_uri": "https://localhost:8080/"
        },
        "id": "97zXrMzA9-8K",
        "outputId": "e022a09a-3f25-4783-ceb8-09a92447e8d5"
      },
      "outputs": [
        {
          "output_type": "stream",
          "name": "stdout",
          "text": [
            "Enter rows and cols: 6 6 \n",
            "Enter matrix values row by row:\n",
            "1 1 1 0 0 0\n",
            "0 1 0 0 0 0\n",
            "1 1 1 0 0 0\n",
            "0 0 2 4 4 0\n",
            "0 0 0 2 0 0\n",
            "0 0 1 2 4 0\n",
            "Maximum Hourglass Sum = 19\n"
          ]
        }
      ],
      "source": [
        "#ME\n",
        "rows, cols = map(int, input(\"Enter rows and cols: \").split())\n",
        "matrix = []\n",
        "print(\"Enter matrix values row by row:\")\n",
        "for _ in range(rows):\n",
        "    matrix.append(list(map(int, input().split())))\n",
        "max_sum = float('-inf')\n",
        "for i in range(rows - 2):\n",
        "    for j in range(cols - 2):\n",
        "        s = (matrix[i][j] + matrix[i][j+1] + matrix[i][j+2] +\n",
        "                          matrix[i+1][j+1] +\n",
        "             matrix[i+2][j] + matrix[i+2][j+1] + matrix[i+2][j+2])\n",
        "        if s > max_sum:\n",
        "            max_sum = s\n",
        "print(\"Maximum Hourglass Sum =\", max_sum)"
      ]
    },
    {
      "cell_type": "code",
      "source": [
        "#Bytes\n",
        "l = [48, 65, 97, 100, 32, 35, 65]\n",
        "print(type(l))\n",
        "print(l)\n",
        "l1 = bytes(l)\n",
        "print(l)\n",
        "l1 = bytes(l)\n",
        "print(type(l1))\n",
        "print(l1)\n",
        "print(l1[0])\n",
        "print(l1[1:4])\n",
        "print(l1[-1])\n",
        "print(l1[-2:-5:-1])\n",
        "# l1[0] = 49  #TypeError"
      ],
      "metadata": {
        "colab": {
          "base_uri": "https://localhost:8080/"
        },
        "id": "pgcv_tRICUmx",
        "outputId": "8600681b-e364-4a2f-d9d8-9a86fd9e0e9d"
      },
      "execution_count": 4,
      "outputs": [
        {
          "output_type": "stream",
          "name": "stdout",
          "text": [
            "<class 'list'>\n",
            "[48, 65, 97, 100, 32, 35, 65]\n",
            "[48, 65, 97, 100, 32, 35, 65]\n",
            "<class 'bytes'>\n",
            "b'0Aad #A'\n",
            "48\n",
            "b'Aad'\n",
            "65\n",
            "b'# d'\n"
          ]
        }
      ]
    },
    {
      "cell_type": "code",
      "source": [
        "l = [10, 32, 35, 65, 48, 90, 122, 100]\n",
        "l1 = bytearray(l)\n",
        "print(type(l1))\n",
        "print(l1)\n",
        "print(type(l1))\n",
        "print(l1)\n",
        "print(l1[0])\n",
        "print(l1[1:4])\n",
        "print(l1[-1])\n",
        "print(l1[-2:-5:-1])\n",
        "l1[0] = 9\n",
        "print(l1)"
      ],
      "metadata": {
        "colab": {
          "base_uri": "https://localhost:8080/"
        },
        "id": "7jMecUrMRLue",
        "outputId": "0c062369-4825-48d7-e515-8ca74237b8f9"
      },
      "execution_count": 5,
      "outputs": [
        {
          "output_type": "stream",
          "name": "stdout",
          "text": [
            "<class 'bytearray'>\n",
            "bytearray(b'\\n #A0Zzd')\n",
            "<class 'bytearray'>\n",
            "bytearray(b'\\n #A0Zzd')\n",
            "10\n",
            "bytearray(b' #A')\n",
            "100\n",
            "bytearray(b'zZ0')\n",
            "bytearray(b'\\t #A0Zzd')\n"
          ]
        }
      ]
    },
    {
      "cell_type": "code",
      "source": [
        "#tuple : collection of heterogenous elements\n",
        "#it is a ordered, index, immutable\n",
        "#duplicates are allowed\n",
        "t=(10,20,30)\n",
        "print(t)\n",
        "print(type(t))\n",
        "t1=(10)\n",
        "print(t1)\n",
        "print(type(t1))\n",
        "t2=(10,)\n",
        "print(t2)\n",
        "print(type(t2))"
      ],
      "metadata": {
        "colab": {
          "base_uri": "https://localhost:8080/"
        },
        "id": "wV4FR2ttSU8V",
        "outputId": "0844ef05-bf77-4391-ced8-acb04b3dcb1a"
      },
      "execution_count": 8,
      "outputs": [
        {
          "output_type": "stream",
          "name": "stdout",
          "text": [
            "(10, 20, 30)\n",
            "<class 'tuple'>\n",
            "10\n",
            "<class 'int'>\n",
            "(10,)\n",
            "<class 'tuple'>\n"
          ]
        }
      ]
    },
    {
      "cell_type": "code",
      "source": [
        "t=(10,20,30,10,20,40,50)\n",
        "print(t[3])\n",
        "print(t[1:4])\n",
        "print(t[-1])\n",
        "print(t[-1:-4:-1])\n",
        "#t[0] = 100#typeError - > tuple is immutable\n",
        "print(t)\n",
        "print(dir(t))\n",
        "print(t.count(10))\n",
        "print(t.index(40))\n",
        "print(len(t))\n",
        "print(max(t))\n",
        "print(min(t))\n",
        "print(sum(t))\n",
        "t1 = sorted(t)\n",
        "print(t1)\n",
        "t2 = sorted(t)\n",
        "print(t2)\n",
        "t3 = sorted(t,reverse = True)\n",
        "print(t3)"
      ],
      "metadata": {
        "colab": {
          "base_uri": "https://localhost:8080/"
        },
        "id": "U_gWzZc8RPMf",
        "outputId": "75616602-844d-4696-9dfc-91567b22f894"
      },
      "execution_count": 12,
      "outputs": [
        {
          "output_type": "stream",
          "name": "stdout",
          "text": [
            "10\n",
            "(20, 30, 10)\n",
            "50\n",
            "(50, 40, 20)\n",
            "(10, 20, 30, 10, 20, 40, 50)\n",
            "['__add__', '__class__', '__class_getitem__', '__contains__', '__delattr__', '__dir__', '__doc__', '__eq__', '__format__', '__ge__', '__getattribute__', '__getitem__', '__getnewargs__', '__getstate__', '__gt__', '__hash__', '__init__', '__init_subclass__', '__iter__', '__le__', '__len__', '__lt__', '__mul__', '__ne__', '__new__', '__reduce__', '__reduce_ex__', '__repr__', '__rmul__', '__setattr__', '__sizeof__', '__str__', '__subclasshook__', 'count', 'index']\n",
            "2\n",
            "5\n",
            "7\n",
            "50\n",
            "10\n",
            "180\n",
            "[10, 10, 20, 20, 30, 40, 50]\n",
            "[10, 10, 20, 20, 30, 40, 50]\n",
            "[50, 40, 30, 20, 20, 10, 10]\n"
          ]
        }
      ]
    },
    {
      "cell_type": "code",
      "source": [
        "t=((1,2),(3,4),(5,6))\n",
        "print(t)\n",
        "print(t[0])\n",
        "print(t[1][0])\n",
        "for r in range(len(t)):\n",
        "  print(*t[r])"
      ],
      "metadata": {
        "colab": {
          "base_uri": "https://localhost:8080/"
        },
        "id": "bMGG2DYmUFzs",
        "outputId": "4eec8adc-d7e7-400d-a509-300c5919cc4e"
      },
      "execution_count": 17,
      "outputs": [
        {
          "output_type": "stream",
          "name": "stdout",
          "text": [
            "((1, 2), (3, 4), (5, 6))\n",
            "(1, 2)\n",
            "3\n",
            "1 2\n",
            "3 4\n",
            "5 6\n"
          ]
        }
      ]
    },
    {
      "cell_type": "code",
      "source": [
        "#write a program to print duplicate values from tuple\n",
        "user_input = input(\"Enter elements of the tuple separated by space: \")\n",
        "tup = tuple(user_input.split())\n",
        "duplicates = []\n",
        "for item in tup:\n",
        "    if tup.count(item) > 1 and item not in duplicates:\n",
        "        duplicates.append(item)\n",
        "if duplicates:\n",
        "    print(\"Duplicate values in the tuple are:\", duplicates)\n",
        "else:\n",
        "    print(\"No duplicates found.\")\n"
      ],
      "metadata": {
        "colab": {
          "base_uri": "https://localhost:8080/"
        },
        "id": "rRu1INf7VSoS",
        "outputId": "400e2dae-0a1b-4546-c9f3-48d7c3eb4055"
      },
      "execution_count": 18,
      "outputs": [
        {
          "output_type": "stream",
          "name": "stdout",
          "text": [
            "Enter elements of the tuple separated by space: 2 5 8 4 6 9 5 3 1 5\n",
            "Duplicate values in the tuple are: ['5']\n"
          ]
        }
      ]
    },
    {
      "cell_type": "code",
      "source": [
        "#OR\n",
        "t = tuple(map(int,input().split()))\n",
        "d = []\n",
        "for i in range(len(t)):\n",
        "  if t.count(t[i])>1 and t[i] not in d:\n",
        "    d.append(t[i])\n",
        "print(*d)"
      ],
      "metadata": {
        "colab": {
          "base_uri": "https://localhost:8080/"
        },
        "id": "PaWg9MsPX13F",
        "outputId": "77190a0a-e757-462b-b2dd-ff78fa10756d"
      },
      "execution_count": 19,
      "outputs": [
        {
          "output_type": "stream",
          "name": "stdout",
          "text": [
            "2 58 4 6 9 5 3 1 5\n",
            "5\n"
          ]
        }
      ]
    },
    {
      "cell_type": "code",
      "source": [
        "# Program to print each string in reverse order from a tuple\n",
        "my_tuple = tuple(map(str,input().split()))\n",
        "for word in my_tuple:\n",
        "    print(*word[: :-1])"
      ],
      "metadata": {
        "colab": {
          "base_uri": "https://localhost:8080/"
        },
        "id": "AucjmMR_YxEj",
        "outputId": "cb05129f-23dc-4c7f-eda8-d446abc91eff"
      },
      "execution_count": 23,
      "outputs": [
        {
          "output_type": "stream",
          "name": "stdout",
          "text": [
            "apple banana mango\n",
            "e l p p a\n",
            "a n a n a b\n",
            "o g n a m\n"
          ]
        }
      ]
    },
    {
      "cell_type": "code",
      "source": [
        "t = tuple(map(str,input().split()))\n",
        "vowels = \"aeiouAEIOU\"\n",
        "for word in t :\n",
        "  count = 0\n",
        "  for char in word:\n",
        "    if char in vowels:\n",
        "      count+=1\n",
        "  print(f\"{word} : {count}\")"
      ],
      "metadata": {
        "colab": {
          "base_uri": "https://localhost:8080/"
        },
        "id": "s1jVVtCaaFGb",
        "outputId": "8ae0bfac-2a3b-4401-944d-f8165bd6db95"
      },
      "execution_count": 24,
      "outputs": [
        {
          "output_type": "stream",
          "name": "stdout",
          "text": [
            "apple banana mango\n",
            "apple : 2\n",
            "banana : 3\n",
            "mango : 2\n"
          ]
        }
      ]
    },
    {
      "cell_type": "code",
      "source": [
        "a,b,c,d=10,20,30,40\n",
        "print(a,b,c,d)\n",
        "t = a,b,c,d\n",
        "print(t)\n",
        "p,q,r,s = t\n",
        "print(p,q,r,s)"
      ],
      "metadata": {
        "colab": {
          "base_uri": "https://localhost:8080/"
        },
        "id": "ngjLTbw9cZO6",
        "outputId": "d6189194-44f6-431b-af68-ec901cca6f0c"
      },
      "execution_count": 25,
      "outputs": [
        {
          "output_type": "stream",
          "name": "stdout",
          "text": [
            "10 20 30 40\n",
            "(10, 20, 30, 40)\n",
            "10 20 30 40\n"
          ]
        }
      ]
    },
    {
      "cell_type": "code",
      "source": [
        "# SET : collection of heterogenous elements\n",
        "# it is unordered,immutable\n",
        "#duplicates are not allowed\n",
        "s={}\n",
        "print(type(s))\n",
        "s =set()\n",
        "print(type(s))\n",
        "print(s)\n",
        "s = {100,11,150,240}\n",
        "print(s) #{240, 11, 100, 150} --> unordered\n",
        "#s[0] = 200 #immutable\n",
        "#print(s[0]) # Error indexing is not possible"
      ],
      "metadata": {
        "colab": {
          "base_uri": "https://localhost:8080/"
        },
        "id": "_jHVknIsdjcz",
        "outputId": "09135e81-d828-4b78-b40c-dd048ef3da72"
      },
      "execution_count": 28,
      "outputs": [
        {
          "output_type": "stream",
          "name": "stdout",
          "text": [
            "<class 'dict'>\n",
            "<class 'set'>\n",
            "set()\n",
            "{240, 11, 100, 150}\n"
          ]
        }
      ]
    },
    {
      "cell_type": "code",
      "source": [
        "s={10,20,30,40}\n",
        "s.add(50)\n",
        "print(s)\n",
        "'''s.clear()\n",
        "print(s)#set()'''\n",
        "s1 = s.copy()#cloning or new object is created for s1\n",
        "print(s1)\n",
        "s2 = {20,30,40,50}\n",
        "s3 = {40,50,60,70}\n",
        "print(s2-s3)\n",
        "print(s3-s2)\n",
        "print(s2.difference(s3))\n",
        "print(s3.difference(s2))\n",
        "s2.discard(40)\n",
        "print(s2)\n",
        "s2.difference_update(s3)\n",
        "print(s2)\n",
        "s4 = {30,40}\n",
        "print(s4.issubset(s2))\n",
        "print(s4.issubset(s3))"
      ],
      "metadata": {
        "colab": {
          "base_uri": "https://localhost:8080/"
        },
        "id": "vLMy12S6g6m3",
        "outputId": "116c01bc-886c-406b-8591-070ad813fa46"
      },
      "execution_count": 32,
      "outputs": [
        {
          "output_type": "stream",
          "name": "stdout",
          "text": [
            "{40, 10, 50, 20, 30}\n",
            "{50, 20, 40, 10, 30}\n",
            "{20, 30}\n",
            "{60, 70}\n",
            "{20, 30}\n",
            "{60, 70}\n",
            "{50, 20, 30}\n",
            "{20, 30}\n",
            "False\n",
            "False\n"
          ]
        }
      ]
    }
  ]
}